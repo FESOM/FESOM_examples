{
 "cells": [
  {
   "cell_type": "code",
   "execution_count": 1,
   "id": "cca11f13-a7e5-45d0-a6c9-625a6c4a1e2a",
   "metadata": {
    "tags": []
   },
   "outputs": [
    {
     "name": "stdout",
     "output_type": "stream",
     "text": [
      "osgeo is not installed, conversion to Geo formats like Geotiff (fesom2GeoFormat) will not work.\n"
     ]
    }
   ],
   "source": [
    "import pyfesom2 as pf\n",
    "import xarray as xr\n",
    "import numpy as np"
   ]
  },
  {
   "cell_type": "code",
   "execution_count": null,
   "id": "9106c78b-00ae-4c47-9653-b440c853d9c1",
   "metadata": {},
   "outputs": [],
   "source": [
    "mesh_path = 'path_to_your_mesh'\n",
    "data_path = 'path_to_your_model_output'\n",
    "\n",
    "#which year?\n",
    "year = 2000\n",
    "#chunk size in time?\n",
    "time_chunk = 1\n",
    "#chunk size in space?\n",
    "nod2_chunk = 10000000\n",
    "#which depth?\n",
    "depth = 100"
   ]
  },
  {
   "cell_type": "code",
   "execution_count": 2,
   "id": "c97b1c8f-fb12-4ef5-b356-59060c5771b2",
   "metadata": {
    "tags": []
   },
   "outputs": [],
   "source": [
    "#fesom.mesh.diag.nc contains the dx/dy operators (basically just vectors of the same size as u/v)\n",
    "diag = xr.open_dataset((mesh_path+'fesom.mesh.diag.nc'))  \n",
    "ddx = diag['gradient_sca_x']\n",
    "ddy = diag['gradient_sca_y']\n"
   ]
  },
  {
   "cell_type": "code",
   "execution_count": null,
   "id": "87b17c85-1b6c-4c4e-b3e4-48da990e971e",
   "metadata": {},
   "outputs": [],
   "source": [
    "###### for old FESOM2 versions \n",
    "elems = (diag['elements']-1).T.astype('int')  #element indices are saved in Fortran format, starting from 1 instead of 0\n",
    "elems = elems[:, [0, 2, 1]] #element indices are in the wrong order from Fortran!!!!!!"
   ]
  },
  {
   "cell_type": "code",
   "execution_count": null,
   "id": "3adb3324-d9ed-4f68-97ea-12227456c227",
   "metadata": {},
   "outputs": [],
   "source": [
    "###### for new FESOM2 versions\n",
    "# elems = (diag['elements']-1).astype('int')"
   ]
  },
  {
   "cell_type": "code",
   "execution_count": 2,
   "id": "c955b32a-41ba-4fde-8b5b-bc7da76003b4",
   "metadata": {
    "tags": []
   },
   "outputs": [
    {
     "ename": "SyntaxError",
     "evalue": "invalid syntax (194925481.py, line 1)",
     "output_type": "error",
     "traceback": [
      "\u001b[0;36m  Cell \u001b[0;32mIn[2], line 1\u001b[0;36m\u001b[0m\n\u001b[0;31m    diag = xr.open_dataset((mesh_path+'fesom.mesh.diag.nc')).  # fesom.mesh.diag.nc contains the dx/dy operators (basically just vectors of the same size as u/v)\u001b[0m\n\u001b[0m                                                               ^\u001b[0m\n\u001b[0;31mSyntaxError\u001b[0m\u001b[0;31m:\u001b[0m invalid syntax\n"
     ]
    }
   ],
   "source": [
    "iz = np.argmin(np.abs(diag.nz1.values+depth)) #find the closest level in the model, depth in diag.nz1 is negative, that is why I use +depth\n",
    "\n",
    "unod = xr.open_dataset((data_path+'unod.fesom.' + str(year) + '.nc'),chunks={'time':time_chunk,'nod2':nod2_chunk})['unod'].astype('float32').isel(nz1=iz)\n",
    "vnod = xr.open_dataset((data_path+'vnod.fesom.' + str(year) + '.nc'),chunks={'time':time_chunk,'nod2':nod2_chunk})['vnod'].astype('float32').isel(nz1=iz)\n",
    "\n",
    "day_index = dd # pick a day to work on for now. I want to write a function that can be thrown on a full array, automatically calculating every day in parallel, but I am not there yet\n",
    "\n",
    "v=vnod[dd,:].compute()\n",
    "u=unod[dd,:].compute()\n",
    "\n",
    "dv_dx = (ddx * v[elem]).sum(dim='n3') \n",
    "du_dy = (ddy * u[elem]).sum(dim='n3')\n",
    "dv_dy = (ddy * v[elem]).sum(dim='n3') \n",
    "du_dx = (ddx * u[elem]).sum(dim='n3')\n",
    "\n",
    "curl = dv_dx - du_dy\n",
    "curl = pf.tonodes(curl,mesh)"
   ]
  },
  {
   "cell_type": "code",
   "execution_count": null,
   "id": "e010d21b-d214-4f24-a43f-80049105c96d",
   "metadata": {},
   "outputs": [],
   "source": [
    "# or as a function:\n",
    "def curl2d(u,v,mesh,diag):\n",
    "#    u,v = pf.vec_rotate_r2g(50, 15, -90, model_lons, model_lats, u,v, flag=1) dont rotate!! diag['gradient_sca_x'] is wrt to rotated field\n",
    "    dv_dx = ((diag['gradient_sca_x']) * v[mesh.elem]).sum(axis=1)\n",
    "    du_dy = ((diag['gradient_sca_y']) * u[mesh.elem]).sum(axis=1)\n",
    "    curl = dv_dx - du_dy\n",
    "    curl = pf.tonodes(curl,mesh)\n",
    "    return curl\n",
    "\n",
    "#might be better to pass ddx/ddy because diag contains a LOT more than just those and it might lead to some overhead"
   ]
  },
  {
   "cell_type": "code",
   "execution_count": null,
   "id": "9888101a-34a8-4743-a5b9-d010a59e9102",
   "metadata": {},
   "outputs": [],
   "source": []
  }
 ],
 "metadata": {
  "kernelspec": {
   "display_name": "conda_pyfesom2",
   "language": "python",
   "name": "conda_pyfesom2"
  },
  "language_info": {
   "codemirror_mode": {
    "name": "ipython",
    "version": 3
   },
   "file_extension": ".py",
   "mimetype": "text/x-python",
   "name": "python",
   "nbconvert_exporter": "python",
   "pygments_lexer": "ipython3",
   "version": "3.9.18"
  }
 },
 "nbformat": 4,
 "nbformat_minor": 5
}
